{
 "cells": [
  {
   "cell_type": "code",
   "execution_count": 1,
   "metadata": {},
   "outputs": [],
   "source": [
    "import numpy as np\n",
    "import pandas as pd"
   ]
  },
  {
   "cell_type": "code",
   "execution_count": 2,
   "metadata": {},
   "outputs": [],
   "source": [
    "# Setup the data paths\n",
    "hydroportal_files_paths = ['Discharge_3_hour_mean_inflow.csv',\n",
    "                           'Lake_Height.csv',\n",
    "                           'PercentFull_Active_Lake_Storage.csv',\n",
    "                           'Snow_Volume_Opuha_Catchment.csv',\n",
    "                           'Turbidity_Buoy.csv',\n",
    "                           'Turbidity_Platform.csv',\n",
    "                           'Water_Temp_Buoy.csv',\n",
    "                           'Water_Temp_Platform.csv']\n",
    "\n",
    "cliflo_files = 'Cliflo_39255_Fairlie_Env_Data.csv'"
   ]
  },
  {
   "cell_type": "code",
   "execution_count": null,
   "metadata": {},
   "outputs": [],
   "source": [
    "# "
   ]
  }
 ],
 "metadata": {
  "kernelspec": {
   "display_name": "GEE",
   "language": "python",
   "name": "python3"
  },
  "language_info": {
   "codemirror_mode": {
    "name": "ipython",
    "version": 3
   },
   "file_extension": ".py",
   "mimetype": "text/x-python",
   "name": "python",
   "nbconvert_exporter": "python",
   "pygments_lexer": "ipython3",
   "version": "3.12.3"
  }
 },
 "nbformat": 4,
 "nbformat_minor": 2
}
