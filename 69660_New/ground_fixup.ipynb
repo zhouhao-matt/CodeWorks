{
 "cells": [
  {
   "cell_type": "code",
   "execution_count": 1,
   "metadata": {},
   "outputs": [],
   "source": [
    "import numpy as np\n",
    "import pandas as pd"
   ]
  },
  {
   "cell_type": "code",
   "execution_count": 2,
   "metadata": {},
   "outputs": [],
   "source": [
    "# Setup the data paths\n",
    "hydroportal_files_paths = ['Discharge_3_hour_mean_inflow.csv',\n",
    "                           'Lake_Height.csv',\n",
    "                           'PercentFull_Active_Lake_Storage.csv',\n",
    "                           'Snow_Volume_Opuha_Catchment.csv',\n",
    "                           'Turbidity_Buoy.csv',\n",
    "                           'Turbidity_Platform.csv',\n",
    "                           'Water_Temp_Buoy.csv',\n",
    "                           'Water_Temp_Platform.csv']\n",
    "\n",
    "cliflo_files = 'Cliflo_39255_Fairlie_Env_Data.csv'"
   ]
  },
  {
   "cell_type": "code",
   "execution_count": 15,
   "metadata": {},
   "outputs": [
    {
     "name": "stdout",
     "output_type": "stream",
     "text": [
      "<class 'pandas.core.frame.DataFrame'>\n",
      "DatetimeIndex: 782231 entries, 1981-04-02 00:00:00 to 2024-06-10 12:30:00\n",
      "Data columns (total 8 columns):\n",
      " #   Column         Non-Null Count   Dtype  \n",
      "---  ------         --------------   -----  \n",
      " 0   Value (m^3/s)  28349 non-null   float64\n",
      " 1   Value (m)      699906 non-null  float64\n",
      " 2   Value (%)      691883 non-null  float64\n",
      " 3   Value (Mm^3)   15766 non-null   float64\n",
      " 4   Value (NTU)    217615 non-null  float64\n",
      " 5   Value (NTU)    213917 non-null  float64\n",
      " 6   Value (°C)     197546 non-null  float64\n",
      " 7   Value (°C)     214817 non-null  float64\n",
      "dtypes: float64(8)\n",
      "memory usage: 53.7 MB\n"
     ]
    }
   ],
   "source": [
    "# Load the data and process the column name etc\n",
    "\n",
    "dataframe_list = []\n",
    "\n",
    "for file in hydroportal_files_paths:\n",
    "    df = pd.read_csv(file, skiprows=1,index_col=0)\n",
    "    df.index = pd.to_datetime(df.index)\n",
    "    dataframe_list.append(df)\n",
    "\n",
    "# Merge the dataframes in the list into a single dataframe\n",
    "\n",
    "merged_hydro_portal_data = pd.concat(dataframe_list, axis=1, join='outer')\n",
    "\n",
    "merged_hydro_portal_data.info()\n"
   ]
  },
  {
   "cell_type": "code",
   "execution_count": 17,
   "metadata": {},
   "outputs": [],
   "source": [
    "# Rename the columns of the dataframe to make it more readable\n",
    "\n",
    "new_column_names = [\n",
    "    'Discharge_(m^3/s)',\n",
    "    'Lake_Height_(m)',\n",
    "    'PercentFull_Active_Lake_Storage_(%)',\n",
    "    'Snow_Volume_Opuha_Catchment_(mm)',\n",
    "    'Turbidity_Buoy_(NTU)',\n",
    "    'Turbidity_Platform_(NTU)',\n",
    "    'Water_Temp_Buoy_(degC)',\n",
    "    'Water_Temp_Platform_(degC)']\n",
    "\n",
    "rename_dic = dict(zip(merged_hydro_portal_data.columns, new_column_names))\n",
    "\n",
    "# Rename the columns of the dataframe\n",
    "\n",
    "merged_hydro_portal_data.rename(columns=rename_dic, inplace=True)"
   ]
  },
  {
   "cell_type": "code",
   "execution_count": 40,
   "metadata": {},
   "outputs": [],
   "source": [
    "# Rading the cliflo data\n",
    "\n",
    "cliflo_data = pd.read_csv(cliflo_files,skiprows=10)\n",
    "\n",
    "# drop the last few rows\n",
    "cliflo_data=cliflo_data[:-6]\n",
    "\n",
    "# Drop the first column\n",
    "cliflo_data = cliflo_data.drop(cliflo_data.columns[0], axis=1)"
   ]
  },
  {
   "cell_type": "code",
   "execution_count": 41,
   "metadata": {},
   "outputs": [],
   "source": [
    "# Convert 'Day(Local_Date)' to datetime and set it as the index\n",
    "cliflo_data['Day(Local_Date)'] = pd.to_datetime(cliflo_data['Day(Local_Date)'], format='%Y%m%d:%H%M')\n",
    "cliflo_data.set_index('Day(Local_Date)', inplace=True)\n",
    "# Rename the index\n",
    "cliflo_data.index.rename('Timestamp (UTC+12:00)', inplace=True)\n",
    "\n"
   ]
  },
  {
   "cell_type": "code",
   "execution_count": 43,
   "metadata": {},
   "outputs": [],
   "source": [
    "# Merge the two dataframes\n",
    "\n",
    "Final_Ground_Data = pd.concat([merged_hydro_portal_data, cliflo_data], axis=1, join='outer')"
   ]
  },
  {
   "cell_type": "code",
   "execution_count": 47,
   "metadata": {},
   "outputs": [
    {
     "data": {
      "text/plain": [
       "(782231, 47)"
      ]
     },
     "execution_count": 47,
     "metadata": {},
     "output_type": "execute_result"
    }
   ],
   "source": [
    "Final_Ground_Data.shape"
   ]
  },
  {
   "cell_type": "code",
   "execution_count": 48,
   "metadata": {},
   "outputs": [],
   "source": [
    "Final_Ground_Data.to_csv('Final_Ground_Data.csv')"
   ]
  },
  {
   "cell_type": "code",
   "execution_count": null,
   "metadata": {},
   "outputs": [],
   "source": []
  }
 ],
 "metadata": {
  "kernelspec": {
   "display_name": "GEE",
   "language": "python",
   "name": "python3"
  },
  "language_info": {
   "codemirror_mode": {
    "name": "ipython",
    "version": 3
   },
   "file_extension": ".py",
   "mimetype": "text/x-python",
   "name": "python",
   "nbconvert_exporter": "python",
   "pygments_lexer": "ipython3",
   "version": "3.12.3"
  }
 },
 "nbformat": 4,
 "nbformat_minor": 2
}
