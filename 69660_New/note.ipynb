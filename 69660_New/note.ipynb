{
 "cells": [
  {
   "cell_type": "markdown",
   "metadata": {},
   "source": []
  },
  {
   "cell_type": "markdown",
   "metadata": {},
   "source": [
    "\n",
    "\n",
    "|        | Column 1               | Column 2               | Column 3               | Column 4               | Column 5               |\n",
    "|--------|------------------------|------------------------|------------------------|------------------------|------------------------|\n",
    "| Row 1  | (170.89142642028511, -43.99924808088317) | (170.89155129827327, -43.99924808088317) | (170.89167617626143, -43.99924808088317) | (170.89180105424958, -43.99924808088317) | (170.89192593223774, -43.99924808088317) |\n",
    "| Row 2  | (170.89142642028511, -43.99915824976567) | (170.89155129827327, -43.99915824976567) | (170.89167617626143, -43.99915824976567) | (170.89180105424958, -43.99915824976567) | (170.89192593223774, -43.99915824976567) |\n",
    "| Row 3  | (170.89142642028511, -43.99906841864817) | (170.89155129827327, -43.99906841864817) | (170.89167617626143, -43.99906841864817) | (170.89180105424958, -43.99906841864817) | (170.89192593223774, -43.99906841864817) |\n",
    "| Row 4  | (170.89142642028511, -43.99897858753067) | (170.89155129827327, -43.99897858753067) | (170.89167617626143, -43.99897858753067) | (170.89180105424958, -43.99897858753067) | (170.89192593223774, -43.99897858753067) |\n",
    "| Row 5  | (170.89142642028511, -43.99888875641317) | (170.89155129827327, -43.99888875641317) | (170.89167617626143, -43.99888875641317) | (170.89180105424958, -43.99888875641317) | (170.89192593223774, -43.99888875641317) |\n",
    "\n",
    "\n"
   ]
  },
  {
   "cell_type": "markdown",
   "metadata": {},
   "source": []
  },
  {
   "cell_type": "code",
   "execution_count": 3,
   "metadata": {},
   "outputs": [
    {
     "data": {
      "text/html": [
       "\n",
       "            <style>\n",
       "                .geemap-dark {\n",
       "                    --jp-widgets-color: white;\n",
       "                    --jp-widgets-label-color: white;\n",
       "                    --jp-ui-font-color1: white;\n",
       "                    --jp-layout-color2: #454545;\n",
       "                    background-color: #383838;\n",
       "                }\n",
       "\n",
       "                .geemap-dark .jupyter-button {\n",
       "                    --jp-layout-color3: #383838;\n",
       "                }\n",
       "\n",
       "                .geemap-colab {\n",
       "                    background-color: var(--colab-primary-surface-color, white);\n",
       "                }\n",
       "\n",
       "                .geemap-colab .jupyter-button {\n",
       "                    --jp-layout-color3: var(--colab-primary-surface-color, white);\n",
       "                }\n",
       "            </style>\n",
       "            "
      ],
      "text/plain": [
       "<IPython.core.display.HTML object>"
      ]
     },
     "metadata": {},
     "output_type": "display_data"
    },
    {
     "data": {
      "application/vnd.jupyter.widget-view+json": {
       "model_id": "d5c3634bbfe041e3a393678d228a6531",
       "version_major": 2,
       "version_minor": 0
      },
      "text/plain": [
       "Map(center=[-43.99906841864817, 170.89167617626143], controls=(WidgetControl(options=['position', 'transparent…"
      ]
     },
     "execution_count": 3,
     "metadata": {},
     "output_type": "execute_result"
    }
   ],
   "source": [
    "import geemap\n",
    "import ee\n",
    "\n",
    "# Initialize the Earth Engine module\n",
    "ee.Initialize(project='data690-zhouhaomatt')\n",
    "\n",
    "# Define the centre point and area of interest\n",
    "centre_lon = 170.891676176261413\n",
    "centre_lat = -43.99906841864817\n",
    "\n",
    "# Create an interactive map\n",
    "Map = geemap.Map(center=[centre_lat, centre_lon], zoom=16)\n",
    "\n",
    "# Define the area of interest\n",
    "aoi = ee.Geometry.Rectangle([\n",
    "    centre_lon - 0.001, centre_lat - 0.001,\n",
    "    centre_lon + 0.001, centre_lat + 0.001\n",
    "])\n",
    "\n",
    "# Retrieve a Sentinel-2 image\n",
    "image = ee.ImageCollection('COPERNICUS/S2_SR') \\\n",
    "    .filterBounds(aoi) \\\n",
    "    .filterDate('2024-01-01', '2024-12-31') \\\n",
    "    .sort('CLOUD_COVER') \\\n",
    "    .first()\n",
    "\n",
    "# Add the Sentinel-2 image to the map\n",
    "vis_params = {\n",
    "    'bands': ['B4', 'B3', 'B2'],\n",
    "    'min': 0,\n",
    "    'max': 3000,\n",
    "    'gamma': 1.4,\n",
    "}\n",
    "Map.addLayer(image, vis_params, 'Sentinel-2 Image')\n",
    "\n",
    "# Define the grid coordinates\n",
    "grid_coords = [\n",
    "    [(170.89142642028511, -43.99924808088317), (170.89155129827327, -43.99924808088317), (170.89167617626143, -43.99924808088317), (170.89180105424958, -43.99924808088317), (170.89192593223774, -43.99924808088317)],\n",
    "    [(170.89142642028511, -43.99915824976567), (170.89155129827327, -43.99915824976567), (170.89167617626143, -43.99915824976567), (170.89180105424958, -43.99915824976567), (170.89192593223774, -43.99915824976567)],\n",
    "    [(170.89142642028511, -43.99906841864817), (170.89155129827327, -43.99906841864817), (170.89167617626143, -43.99906841864817), (170.89180105424958, -43.99906841864817), (170.89192593223774, -43.99906841864817)],\n",
    "    [(170.89142642028511, -43.99897858753067), (170.89155129827327, -43.99897858753067), (170.89167617626143, -43.99897858753067), (170.89180105424958, -43.99897858753067), (170.89192593223774, -43.99897858753067)],\n",
    "    [(170.89142642028511, -43.99888875641317), (170.89155129827327, -43.99888875641317), (170.89167617626143, -43.99888875641317), (170.89180105424958, -43.99888875641317), (170.89192593223774, -43.99888875641317)]\n",
    "]\n",
    "\n",
    "# Create features from the grid points\n",
    "features = []\n",
    "for row in grid_coords:\n",
    "    for coord in row:\n",
    "        lon, lat = coord\n",
    "        point = ee.Geometry.Point([lon, lat])\n",
    "        feature = ee.Feature(point)\n",
    "        features.append(feature)\n",
    "\n",
    "# Create a FeatureCollection from the features\n",
    "feature_collection = ee.FeatureCollection(features)\n",
    "\n",
    "# Add the FeatureCollection to the map\n",
    "Map.addLayer(feature_collection, {'color': 'red'}, 'Grid Points')\n",
    "\n",
    "# Display the map\n",
    "Map\n"
   ]
  },
  {
   "cell_type": "code",
   "execution_count": null,
   "metadata": {},
   "outputs": [],
   "source": []
  }
 ],
 "metadata": {
  "kernelspec": {
   "display_name": "GEE",
   "language": "python",
   "name": "python3"
  },
  "language_info": {
   "codemirror_mode": {
    "name": "ipython",
    "version": 3
   },
   "file_extension": ".py",
   "mimetype": "text/x-python",
   "name": "python",
   "nbconvert_exporter": "python",
   "pygments_lexer": "ipython3",
   "version": "3.12.3"
  }
 },
 "nbformat": 4,
 "nbformat_minor": 2
}
