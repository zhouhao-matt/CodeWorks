{
 "cells": [
  {
   "cell_type": "code",
   "execution_count": 1,
   "metadata": {},
   "outputs": [],
   "source": [
    "import ee\n",
    "import pandas as pd\n",
    "from scipy.spatial import cKDTree\n",
    "\n",
    "# Initialize Earth Engine\n",
    "ee.Initialize(project='data690-zhouhaomatt')\n",
    "\n",
    "# Set display options to show all columns\n",
    "pd.set_option('display.max_columns', None)\n"
   ]
  },
  {
   "cell_type": "code",
   "execution_count": 3,
   "metadata": {},
   "outputs": [],
   "source": [
    "# Define the ROI using a central point and buffer\n",
    "central_point = ee.Geometry.Point(170.89167617626143, -43.99906841864817)\n",
    "roi = central_point.buffer(30)\n"
   ]
  },
  {
   "cell_type": "code",
   "execution_count": 5,
   "metadata": {},
   "outputs": [],
   "source": [
    "image = ee.ImageCollection('COPERNICUS/S2_SR_HARMONIZED').filterDate('2018-01-01', '2024-06-19').filterBounds(roi).first()\n"
   ]
  },
  {
   "cell_type": "code",
   "execution_count": 13,
   "metadata": {},
   "outputs": [],
   "source": [
    "angel_info = image.get('MEAN_SOLAR_ZENITH_ANGLE').getInfo()"
   ]
  },
  {
   "cell_type": "code",
   "execution_count": 14,
   "metadata": {},
   "outputs": [
    {
     "data": {
      "text/plain": [
       "61.3771736223416"
      ]
     },
     "execution_count": 14,
     "metadata": {},
     "output_type": "execute_result"
    }
   ],
   "source": [
    "angel_info"
   ]
  },
  {
   "cell_type": "code",
   "execution_count": 15,
   "metadata": {},
   "outputs": [],
   "source": [
    "angel= image.get('MEAN_SOLAR_ZENITH_ANGLE')"
   ]
  },
  {
   "cell_type": "code",
   "execution_count": 16,
   "metadata": {},
   "outputs": [
    {
     "data": {
      "text/plain": [
       "<ee.computedobject.ComputedObject at 0x1bc2a76b920>"
      ]
     },
     "execution_count": 16,
     "metadata": {},
     "output_type": "execute_result"
    }
   ],
   "source": [
    "angel"
   ]
  },
  {
   "cell_type": "code",
   "execution_count": 17,
   "metadata": {},
   "outputs": [],
   "source": [
    "def extract_sun_angles(image):\n",
    "    sun_zenith = ee.Number(image.get('MEAN_SOLAR_ZENITH_ANGLE'))\n",
    "    sun_azimuth = ee.Number(image.get('MEAN_SOLAR_AZIMUTH_ANGLE'))\n",
    "    return ee.Feature(None, {'system:time_start': image.get('system:time_start'), 'sun_zenith': sun_zenith, 'sun_azimuth': sun_azimuth})\n"
   ]
  },
  {
   "cell_type": "code",
   "execution_count": 18,
   "metadata": {},
   "outputs": [],
   "source": [
    "something = extract_sun_angles(image)"
   ]
  },
  {
   "cell_type": "code",
   "execution_count": 21,
   "metadata": {},
   "outputs": [
    {
     "data": {
      "text/plain": [
       "{'type': 'Feature',\n",
       " 'geometry': None,\n",
       " 'properties': {'sun_azimuth': 37.4635371912855,\n",
       "  'sun_zenith': 61.3771736223416,\n",
       "  'system:time_start': 1535408903936}}"
      ]
     },
     "execution_count": 21,
     "metadata": {},
     "output_type": "execute_result"
    }
   ],
   "source": [
    "something.getInfo()"
   ]
  },
  {
   "cell_type": "code",
   "execution_count": null,
   "metadata": {},
   "outputs": [],
   "source": [
    "something['']"
   ]
  },
  {
   "cell_type": "code",
   "execution_count": 24,
   "metadata": {},
   "outputs": [],
   "source": [
    "image = ee.Image('COPERNICUS/S2_SR_HARMONIZED/20181225T222531_20181225T222541_T59GMM')\n"
   ]
  },
  {
   "cell_type": "code",
   "execution_count": 26,
   "metadata": {},
   "outputs": [
    {
     "data": {
      "text/plain": [
       "{'type': 'Image',\n",
       " 'bands': [{'id': 'B1',\n",
       "   'data_type': {'type': 'PixelType',\n",
       "    'precision': 'int',\n",
       "    'min': 0,\n",
       "    'max': 65535},\n",
       "   'dimensions': [1830, 1830],\n",
       "   'crs': 'EPSG:32759',\n",
       "   'crs_transform': [60, 0, 399960, 0, -60, 5200000]},\n",
       "  {'id': 'B2',\n",
       "   'data_type': {'type': 'PixelType',\n",
       "    'precision': 'int',\n",
       "    'min': 0,\n",
       "    'max': 65535},\n",
       "   'dimensions': [10980, 10980],\n",
       "   'crs': 'EPSG:32759',\n",
       "   'crs_transform': [10, 0, 399960, 0, -10, 5200000]},\n",
       "  {'id': 'B3',\n",
       "   'data_type': {'type': 'PixelType',\n",
       "    'precision': 'int',\n",
       "    'min': 0,\n",
       "    'max': 65535},\n",
       "   'dimensions': [10980, 10980],\n",
       "   'crs': 'EPSG:32759',\n",
       "   'crs_transform': [10, 0, 399960, 0, -10, 5200000]},\n",
       "  {'id': 'B4',\n",
       "   'data_type': {'type': 'PixelType',\n",
       "    'precision': 'int',\n",
       "    'min': 0,\n",
       "    'max': 65535},\n",
       "   'dimensions': [10980, 10980],\n",
       "   'crs': 'EPSG:32759',\n",
       "   'crs_transform': [10, 0, 399960, 0, -10, 5200000]},\n",
       "  {'id': 'B5',\n",
       "   'data_type': {'type': 'PixelType',\n",
       "    'precision': 'int',\n",
       "    'min': 0,\n",
       "    'max': 65535},\n",
       "   'dimensions': [5490, 5490],\n",
       "   'crs': 'EPSG:32759',\n",
       "   'crs_transform': [20, 0, 399960, 0, -20, 5200000]},\n",
       "  {'id': 'B6',\n",
       "   'data_type': {'type': 'PixelType',\n",
       "    'precision': 'int',\n",
       "    'min': 0,\n",
       "    'max': 65535},\n",
       "   'dimensions': [5490, 5490],\n",
       "   'crs': 'EPSG:32759',\n",
       "   'crs_transform': [20, 0, 399960, 0, -20, 5200000]},\n",
       "  {'id': 'B7',\n",
       "   'data_type': {'type': 'PixelType',\n",
       "    'precision': 'int',\n",
       "    'min': 0,\n",
       "    'max': 65535},\n",
       "   'dimensions': [5490, 5490],\n",
       "   'crs': 'EPSG:32759',\n",
       "   'crs_transform': [20, 0, 399960, 0, -20, 5200000]},\n",
       "  {'id': 'B8',\n",
       "   'data_type': {'type': 'PixelType',\n",
       "    'precision': 'int',\n",
       "    'min': 0,\n",
       "    'max': 65535},\n",
       "   'dimensions': [10980, 10980],\n",
       "   'crs': 'EPSG:32759',\n",
       "   'crs_transform': [10, 0, 399960, 0, -10, 5200000]},\n",
       "  {'id': 'B8A',\n",
       "   'data_type': {'type': 'PixelType',\n",
       "    'precision': 'int',\n",
       "    'min': 0,\n",
       "    'max': 65535},\n",
       "   'dimensions': [5490, 5490],\n",
       "   'crs': 'EPSG:32759',\n",
       "   'crs_transform': [20, 0, 399960, 0, -20, 5200000]},\n",
       "  {'id': 'B9',\n",
       "   'data_type': {'type': 'PixelType',\n",
       "    'precision': 'int',\n",
       "    'min': 0,\n",
       "    'max': 65535},\n",
       "   'dimensions': [1830, 1830],\n",
       "   'crs': 'EPSG:32759',\n",
       "   'crs_transform': [60, 0, 399960, 0, -60, 5200000]},\n",
       "  {'id': 'B11',\n",
       "   'data_type': {'type': 'PixelType',\n",
       "    'precision': 'int',\n",
       "    'min': 0,\n",
       "    'max': 65535},\n",
       "   'dimensions': [5490, 5490],\n",
       "   'crs': 'EPSG:32759',\n",
       "   'crs_transform': [20, 0, 399960, 0, -20, 5200000]},\n",
       "  {'id': 'B12',\n",
       "   'data_type': {'type': 'PixelType',\n",
       "    'precision': 'int',\n",
       "    'min': 0,\n",
       "    'max': 65535},\n",
       "   'dimensions': [5490, 5490],\n",
       "   'crs': 'EPSG:32759',\n",
       "   'crs_transform': [20, 0, 399960, 0, -20, 5200000]},\n",
       "  {'id': 'AOT',\n",
       "   'data_type': {'type': 'PixelType',\n",
       "    'precision': 'int',\n",
       "    'min': 0,\n",
       "    'max': 65535},\n",
       "   'dimensions': [10980, 10980],\n",
       "   'crs': 'EPSG:32759',\n",
       "   'crs_transform': [10, 0, 399960, 0, -10, 5200000]},\n",
       "  {'id': 'WVP',\n",
       "   'data_type': {'type': 'PixelType',\n",
       "    'precision': 'int',\n",
       "    'min': 0,\n",
       "    'max': 65535},\n",
       "   'dimensions': [10980, 10980],\n",
       "   'crs': 'EPSG:32759',\n",
       "   'crs_transform': [10, 0, 399960, 0, -10, 5200000]},\n",
       "  {'id': 'SCL',\n",
       "   'data_type': {'type': 'PixelType',\n",
       "    'precision': 'int',\n",
       "    'min': 0,\n",
       "    'max': 255},\n",
       "   'dimensions': [5490, 5490],\n",
       "   'crs': 'EPSG:32759',\n",
       "   'crs_transform': [20, 0, 399960, 0, -20, 5200000]},\n",
       "  {'id': 'TCI_R',\n",
       "   'data_type': {'type': 'PixelType',\n",
       "    'precision': 'int',\n",
       "    'min': 0,\n",
       "    'max': 255},\n",
       "   'dimensions': [10980, 10980],\n",
       "   'crs': 'EPSG:32759',\n",
       "   'crs_transform': [10, 0, 399960, 0, -10, 5200000]},\n",
       "  {'id': 'TCI_G',\n",
       "   'data_type': {'type': 'PixelType',\n",
       "    'precision': 'int',\n",
       "    'min': 0,\n",
       "    'max': 255},\n",
       "   'dimensions': [10980, 10980],\n",
       "   'crs': 'EPSG:32759',\n",
       "   'crs_transform': [10, 0, 399960, 0, -10, 5200000]},\n",
       "  {'id': 'TCI_B',\n",
       "   'data_type': {'type': 'PixelType',\n",
       "    'precision': 'int',\n",
       "    'min': 0,\n",
       "    'max': 255},\n",
       "   'dimensions': [10980, 10980],\n",
       "   'crs': 'EPSG:32759',\n",
       "   'crs_transform': [10, 0, 399960, 0, -10, 5200000]},\n",
       "  {'id': 'MSK_CLDPRB',\n",
       "   'data_type': {'type': 'PixelType',\n",
       "    'precision': 'int',\n",
       "    'min': 0,\n",
       "    'max': 255},\n",
       "   'dimensions': [5490, 5490],\n",
       "   'crs': 'EPSG:32759',\n",
       "   'crs_transform': [20, 0, 399960, 0, -20, 5200000]},\n",
       "  {'id': 'MSK_SNWPRB',\n",
       "   'data_type': {'type': 'PixelType',\n",
       "    'precision': 'int',\n",
       "    'min': 0,\n",
       "    'max': 255},\n",
       "   'dimensions': [5490, 5490],\n",
       "   'crs': 'EPSG:32759',\n",
       "   'crs_transform': [20, 0, 399960, 0, -20, 5200000]},\n",
       "  {'id': 'QA10',\n",
       "   'data_type': {'type': 'PixelType',\n",
       "    'precision': 'int',\n",
       "    'min': 0,\n",
       "    'max': 65535},\n",
       "   'dimensions': [10980, 10980],\n",
       "   'crs': 'EPSG:32759',\n",
       "   'crs_transform': [10, 0, 399960, 0, -10, 5200000]},\n",
       "  {'id': 'QA20',\n",
       "   'data_type': {'type': 'PixelType',\n",
       "    'precision': 'int',\n",
       "    'min': 0,\n",
       "    'max': 4294967295},\n",
       "   'dimensions': [5490, 5490],\n",
       "   'crs': 'EPSG:32759',\n",
       "   'crs_transform': [20, 0, 399960, 0, -20, 5200000]},\n",
       "  {'id': 'QA60',\n",
       "   'data_type': {'type': 'PixelType',\n",
       "    'precision': 'int',\n",
       "    'min': 0,\n",
       "    'max': 65535},\n",
       "   'dimensions': [1830, 1830],\n",
       "   'crs': 'EPSG:32759',\n",
       "   'crs_transform': [60, 0, 399960, 0, -60, 5200000]}],\n",
       " 'version': 1719282339151334,\n",
       " 'id': 'COPERNICUS/S2_SR_HARMONIZED/20181225T222531_20181225T222541_T59GMM',\n",
       " 'properties': {'DATATAKE_IDENTIFIER': 'GS2A_20181225T222531_018330_N02.11',\n",
       "  'AOT_RETRIEVAL_ACCURACY': 0,\n",
       "  'SPACECRAFT_NAME': 'Sentinel-2A',\n",
       "  'SATURATED_DEFECTIVE_PIXEL_PERCENTAGE': 0,\n",
       "  'MEAN_INCIDENCE_AZIMUTH_ANGLE_B8A': 105.330502415,\n",
       "  'CLOUD_SHADOW_PERCENTAGE': 0.302993,\n",
       "  'MEAN_SOLAR_AZIMUTH_ANGLE': 63.1575759293,\n",
       "  'system:footprint': {'type': 'LinearRing',\n",
       "   'coordinates': [[170.03906787575133, -44.33731041177295],\n",
       "    [170.0390883440218, -44.337332509839946],\n",
       "    [170.03911955812492, -44.33733560748465],\n",
       "    [171.12218820425426, -44.34131188346404],\n",
       "    [171.1223139502944, -44.34124220601539],\n",
       "    [171.12031057463335, -43.3527921307488],\n",
       "    [171.12021470556547, -43.35270221417727],\n",
       "    [170.4296817757092, -43.351343425677385],\n",
       "    [170.42963474480655, -43.351373192095636],\n",
       "    [170.42957514965352, -43.35138671762753],\n",
       "    [170.42956258542776, -43.351407267306996],\n",
       "    [170.42122877589227, -43.37135621233842],\n",
       "    [170.06280474687244, -44.27601811461026],\n",
       "    [170.0385125015003, -44.3363177830083],\n",
       "    [170.03850823724935, -44.33634021218347],\n",
       "    [170.03849936760668, -44.336880281839484],\n",
       "    [170.03851813031125, -44.33693168167567],\n",
       "    [170.0390308622833, -44.33730837762198],\n",
       "    [170.03906787575133, -44.33731041177295]]},\n",
       "  'VEGETATION_PERCENTAGE': 9.293298,\n",
       "  'SOLAR_IRRADIANCE_B12': 85.25,\n",
       "  'SOLAR_IRRADIANCE_B10': 367.15,\n",
       "  'SENSOR_QUALITY': 'PASSED',\n",
       "  'SOLAR_IRRADIANCE_B11': 245.59,\n",
       "  'GENERATION_TIME': 1545781562000,\n",
       "  'SOLAR_IRRADIANCE_B8A': 955.32,\n",
       "  'FORMAT_CORRECTNESS': 'PASSED',\n",
       "  'CLOUD_COVERAGE_ASSESSMENT': 70.930548,\n",
       "  'THIN_CIRRUS_PERCENTAGE': 1.480609,\n",
       "  'system:time_end': 1545776898000,\n",
       "  'WATER_VAPOUR_RETRIEVAL_ACCURACY': 0,\n",
       "  'system:time_start': 1545776898000,\n",
       "  'DATASTRIP_ID': 'S2A_OPER_MSI_L2A_DS_MPS__20181225T234602_S20181225T222541_N02.11',\n",
       "  'PROCESSING_BASELINE': '02.11',\n",
       "  'SENSING_ORBIT_NUMBER': 29,\n",
       "  'NODATA_PIXEL_PERCENTAGE': 35.324708,\n",
       "  'SENSING_ORBIT_DIRECTION': 'DESCENDING',\n",
       "  'GENERAL_QUALITY': 'PASSED',\n",
       "  'GRANULE_ID': 'L2A_T59GMM_A018330_20181225T222541',\n",
       "  'REFLECTANCE_CONVERSION_CORRECTION': 1.03352597022,\n",
       "  'MEDIUM_PROBA_CLOUDS_PERCENTAGE': 2.883144,\n",
       "  'MEAN_INCIDENCE_AZIMUTH_ANGLE_B8': 103.946533534,\n",
       "  'DATATAKE_TYPE': 'INS-NOBS',\n",
       "  'MEAN_INCIDENCE_AZIMUTH_ANGLE_B9': 105.777919879,\n",
       "  'MEAN_INCIDENCE_AZIMUTH_ANGLE_B6': 104.918599797,\n",
       "  'MEAN_INCIDENCE_AZIMUTH_ANGLE_B7': 105.163747299,\n",
       "  'MEAN_INCIDENCE_AZIMUTH_ANGLE_B4': 104.494131983,\n",
       "  'MEAN_INCIDENCE_ZENITH_ANGLE_B1': 9.10032594331,\n",
       "  'NOT_VEGETATED_PERCENTAGE': 10.242296,\n",
       "  'MEAN_INCIDENCE_AZIMUTH_ANGLE_B5': 104.720755729,\n",
       "  'RADIOMETRIC_QUALITY': 'PASSED',\n",
       "  'MEAN_INCIDENCE_AZIMUTH_ANGLE_B2': 103.738963462,\n",
       "  'MEAN_INCIDENCE_AZIMUTH_ANGLE_B3': 104.154934187,\n",
       "  'MEAN_INCIDENCE_ZENITH_ANGLE_B5': 9.0025293585,\n",
       "  'MEAN_INCIDENCE_AZIMUTH_ANGLE_B1': 105.576864349,\n",
       "  'MEAN_INCIDENCE_ZENITH_ANGLE_B4': 8.98977354856,\n",
       "  'MEAN_INCIDENCE_ZENITH_ANGLE_B3': 8.95815491517,\n",
       "  'MEAN_INCIDENCE_ZENITH_ANGLE_B2': 8.93888395912,\n",
       "  'MEAN_INCIDENCE_ZENITH_ANGLE_B9': 9.12947090145,\n",
       "  'MEAN_INCIDENCE_ZENITH_ANGLE_B8': 8.94735723861,\n",
       "  'MEAN_INCIDENCE_ZENITH_ANGLE_B7': 9.04709632722,\n",
       "  'DARK_FEATURES_PERCENTAGE': 1.061314,\n",
       "  'HIGH_PROBA_CLOUDS_PERCENTAGE': 66.566795,\n",
       "  'MEAN_INCIDENCE_ZENITH_ANGLE_B6': 9.02213135584,\n",
       "  'UNCLASSIFIED_PERCENTAGE': 3.028149,\n",
       "  'MEAN_SOLAR_ZENITH_ANGLE': 33.6093431887,\n",
       "  'MEAN_INCIDENCE_ZENITH_ANGLE_B8A': 9.07375294271,\n",
       "  'RADIATIVE_TRANSFER_ACCURACY': 0,\n",
       "  'MGRS_TILE': '59GMM',\n",
       "  'CLOUDY_PIXEL_PERCENTAGE': 70.930548,\n",
       "  'PRODUCT_ID': 'S2A_MSIL2A_20181225T222531_N0211_R029_T59GMM_20181225T234602',\n",
       "  'MEAN_INCIDENCE_ZENITH_ANGLE_B10': 8.96309733836,\n",
       "  'SOLAR_IRRADIANCE_B9': 812.92,\n",
       "  'SNOW_ICE_PERCENTAGE': 2.607484,\n",
       "  'DEGRADED_MSI_DATA_PERCENTAGE': 0,\n",
       "  'MEAN_INCIDENCE_ZENITH_ANGLE_B11': 9.00870903485,\n",
       "  'MEAN_INCIDENCE_ZENITH_ANGLE_B12': 9.0655216742,\n",
       "  'SOLAR_IRRADIANCE_B6': 1287.61,\n",
       "  'MEAN_INCIDENCE_AZIMUTH_ANGLE_B10': 104.436084962,\n",
       "  'SOLAR_IRRADIANCE_B5': 1424.64,\n",
       "  'MEAN_INCIDENCE_AZIMUTH_ANGLE_B11': 104.879769999,\n",
       "  'SOLAR_IRRADIANCE_B8': 1041.63,\n",
       "  'MEAN_INCIDENCE_AZIMUTH_ANGLE_B12': 105.371969478,\n",
       "  'SOLAR_IRRADIANCE_B7': 1162.08,\n",
       "  'SOLAR_IRRADIANCE_B2': 1959.72,\n",
       "  'SOLAR_IRRADIANCE_B1': 1884.69,\n",
       "  'SOLAR_IRRADIANCE_B4': 1512.06,\n",
       "  'GEOMETRIC_QUALITY': 'PASSED',\n",
       "  'SOLAR_IRRADIANCE_B3': 1823.24,\n",
       "  'system:asset_size': 952937061,\n",
       "  'WATER_PERCENTAGE': 2.53392,\n",
       "  'system:index': '20181225T222531_20181225T222541_T59GMM'}}"
      ]
     },
     "execution_count": 26,
     "metadata": {},
     "output_type": "execute_result"
    }
   ],
   "source": [
    "info = image.getInfo()\n",
    "info"
   ]
  },
  {
   "cell_type": "code",
   "execution_count": null,
   "metadata": {},
   "outputs": [],
   "source": []
  }
 ],
 "metadata": {
  "kernelspec": {
   "display_name": "ee",
   "language": "python",
   "name": "python3"
  },
  "language_info": {
   "codemirror_mode": {
    "name": "ipython",
    "version": 3
   },
   "file_extension": ".py",
   "mimetype": "text/x-python",
   "name": "python",
   "nbconvert_exporter": "python",
   "pygments_lexer": "ipython3",
   "version": "3.12.3"
  }
 },
 "nbformat": 4,
 "nbformat_minor": 2
}
